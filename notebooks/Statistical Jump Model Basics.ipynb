{
  "nbformat": 4,
  "nbformat_minor": 0,
  "metadata": {
    "colab": {
      "provenance": []
    },
    "kernelspec": {
      "name": "python3",
      "display_name": "Python 3"
    },
    "language_info": {
      "name": "python"
    }
  },
  "cells": [
    {
      "cell_type": "code",
      "execution_count": null,
      "metadata": {
        "id": "qcfBwUoe_san"
      },
      "outputs": [],
      "source": [
        "%%capture\n",
        "pip install jumpmodels"
      ]
    },
    {
      "cell_type": "code",
      "source": [
        "import yfinance as yf\n",
        "import pandas as pd\n",
        "import numpy as np\n",
        "from jumpmodels.utils import filter_date_range\n",
        "from jumpmodels.jump import JumpModel"
      ],
      "metadata": {
        "id": "qscubQiq_0mY"
      },
      "execution_count": 2,
      "outputs": []
    },
    {
      "cell_type": "code",
      "source": [
        "data = yf.Ticker('SPY').history(period='max')\n",
        "data.index = data.index.tz_localize(None)\n",
        "log_ret = data.Close.apply(np.log).diff()\n",
        "feat_dict = {}\n",
        "hls = [5, 20, 60]\n",
        "for hl in hls:\n",
        "        # Feature 1: EWM-ret\n",
        "        feat_dict[f\"ret_{hl}\"] = log_ret.ewm(halflife=hl).mean()\n",
        "        # Feature 2: log(EWM-DD)\n",
        "        DD = log_ret.apply(lambda x: min(x,0)).pow(2).ewm(halflife=hl).mean().pow(0.5)\n",
        "        feat_dict[f\"DD-log_{hl}\"] = np.log(DD)\n",
        "        # Feature 3: EWM-Sortino-ratio = EWM-ret/EWM-DD\n",
        "        feat_dict[f\"sortino_{hl}\"] = feat_dict[f\"ret_{hl}\"].div(DD)\n",
        "X = pd.DataFrame(feat_dict)"
      ],
      "metadata": {
        "id": "IwGkQ0-1_36v"
      },
      "execution_count": 3,
      "outputs": []
    },
    {
      "cell_type": "code",
      "source": [
        "train_start, test_start = \"2005-1-1\", \"2020-1-1\"\n",
        "# Filter dates\n",
        "X_train = filter_date_range(X, start_date=train_start, end_date=test_start)\n",
        "X_test = filter_date_range(X, start_date=test_start)\n",
        "# Print time split\n",
        "train_start, train_end = X_train.index[[0, -1]]\n",
        "test_start, test_end = X_test.index[[0, -1]]\n",
        "print(\"Training starts at:\", train_start, \"and ends at:\", train_end)\n",
        "print(\"Testing starts at:\", test_start, \"and ends at:\", test_end)"
      ],
      "metadata": {
        "colab": {
          "base_uri": "https://localhost:8080/"
        },
        "id": "OAaQApsf_7Qn",
        "outputId": "add16d5e-4642-4531-e4fe-377704abbf43"
      },
      "execution_count": 4,
      "outputs": [
        {
          "output_type": "stream",
          "name": "stdout",
          "text": [
            "Training starts at: 2005-01-03 00:00:00 and ends at: 2019-12-31 00:00:00\n",
            "Testing starts at: 2020-01-02 00:00:00 and ends at: 2025-02-03 00:00:00\n"
          ]
        }
      ]
    },
    {
      "cell_type": "code",
      "source": [
        "# Preprocessing\n",
        "from jumpmodels.preprocess import StandardScalerPD, DataClipperStd\n",
        "clipper = DataClipperStd(mul=3.)\n",
        "scalar = StandardScalerPD()\n",
        "# Fit on training data\n",
        "X_train_processed = scalar.fit_transform(clipper.fit_transform(X_train))\n",
        "# Transform the test data\n",
        "X_test_processed = scalar.transform(clipper.transform(X_test))"
      ],
      "metadata": {
        "id": "fpL-q76W_-to"
      },
      "execution_count": 5,
      "outputs": []
    },
    {
      "cell_type": "code",
      "source": [
        "# Set the jump penalty\n",
        "jump_penalty=50.\n",
        "# Initlalize a JM instance\n",
        "jm = JumpModel(n_components=2, jump_penalty=jump_penalty, cont=False, )\n",
        "# Fit data\n",
        "jm.fit(X_train_processed, log_ret, sort_by=\"cumret\")"
      ],
      "metadata": {
        "id": "DpwLcbNnAMXA"
      },
      "execution_count": null,
      "outputs": []
    },
    {
      "cell_type": "code",
      "source": [
        "# Disable Latex\n",
        "import matplotlib.pyplot as plt\n",
        "plt.rcParams['text.usetex'] = False"
      ],
      "metadata": {
        "id": "6A_BX3IVAa6J"
      },
      "execution_count": 8,
      "outputs": []
    },
    {
      "cell_type": "code",
      "source": [
        "from jumpmodels.plot import plot_regimes_and_cumret, savefig_plt\n",
        "# Plot regimes\n",
        "ax, ax2 = plot_regimes_and_cumret(jm.labels_, log_ret, n_c=2, start_date=train_start, end_date=train_end)\n",
        "ax.set(title=f\"In-Sample Fitted Regimes by the JM ($\\\\lambda$={jump_penalty})\")"
      ],
      "metadata": {
        "id": "vmE-8S7gASdn"
      },
      "execution_count": null,
      "outputs": []
    }
  ]
}